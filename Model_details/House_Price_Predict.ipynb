{
 "cells": [
  {
   "cell_type": "markdown",
   "metadata": {
    "colab_type": "text",
    "id": "view-in-github"
   },
   "source": [
    "<a href=\"https://colab.research.google.com/github/lguloy/House-Pricing-Predictions/blob/Housing_predictions_Clayton/Dummies_House_Price_Predict.ipynb\" target=\"_parent\"><img src=\"https://colab.research.google.com/assets/colab-badge.svg\" alt=\"Open In Colab\"/></a>"
   ]
  },
  {
   "cell_type": "code",
   "execution_count": 2,
   "metadata": {
    "colab": {
<<<<<<< HEAD
     "base_uri": "https://localhost:8080/"
=======
      "name": "House_Price_Predict.ipynb",
      "provenance": [],
      "include_colab_link": true
    },
    "kernelspec": {
      "name": "python3",
      "display_name": "Python 3"
>>>>>>> 21ebbd06d45ecd3fd598ecbb7d5c12a677072fae
    },
    "id": "NSkkWNzXSTTq",
    "outputId": "19a53c51-85e1-4ced-d887-59af88b77507"
   },
   "outputs": [
    {
     "name": "stdout",
     "output_type": "stream",
     "text": [
      "Get:1 http://security.ubuntu.com/ubuntu bionic-security InRelease [88.7 kB]\n",
      "Get:2 https://cloud.r-project.org/bin/linux/ubuntu bionic-cran40/ InRelease [3,626 B]\n",
      "Ign:3 https://developer.download.nvidia.com/compute/cuda/repos/ubuntu1804/x86_64  InRelease\n",
      "Get:4 http://ppa.launchpad.net/c2d4u.team/c2d4u4.0+/ubuntu bionic InRelease [15.9 kB]\n",
      "Hit:5 http://archive.ubuntu.com/ubuntu bionic InRelease\n",
      "Get:6 http://archive.ubuntu.com/ubuntu bionic-updates InRelease [88.7 kB]\n",
      "Ign:7 https://developer.download.nvidia.com/compute/machine-learning/repos/ubuntu1804/x86_64  InRelease\n",
      "Get:8 https://developer.download.nvidia.com/compute/cuda/repos/ubuntu1804/x86_64  Release [697 B]\n",
      "Hit:9 https://developer.download.nvidia.com/compute/machine-learning/repos/ubuntu1804/x86_64  Release\n",
      "Get:10 https://developer.download.nvidia.com/compute/cuda/repos/ubuntu1804/x86_64  Release.gpg [836 B]\n",
      "Hit:11 http://ppa.launchpad.net/cran/libgit2/ubuntu bionic InRelease\n",
      "Get:12 http://security.ubuntu.com/ubuntu bionic-security/universe amd64 Packages [1,418 kB]\n",
      "Get:13 http://archive.ubuntu.com/ubuntu bionic-backports InRelease [74.6 kB]\n",
      "Get:14 http://security.ubuntu.com/ubuntu bionic-security/main amd64 Packages [2,221 kB]\n",
      "Get:15 http://ppa.launchpad.net/deadsnakes/ppa/ubuntu bionic InRelease [15.9 kB]\n",
      "Hit:16 http://ppa.launchpad.net/graphics-drivers/ppa/ubuntu bionic InRelease\n",
      "Get:17 http://ppa.launchpad.net/c2d4u.team/c2d4u4.0+/ubuntu bionic/main Sources [1,780 kB]\n",
      "Ign:19 https://developer.download.nvidia.com/compute/cuda/repos/ubuntu1804/x86_64  Packages\n",
      "Get:19 https://developer.download.nvidia.com/compute/cuda/repos/ubuntu1804/x86_64  Packages [637 kB]\n",
      "Get:20 http://ppa.launchpad.net/c2d4u.team/c2d4u4.0+/ubuntu bionic/main amd64 Packages [910 kB]\n",
      "Get:21 http://archive.ubuntu.com/ubuntu bionic-updates/universe amd64 Packages [2,188 kB]\n",
      "Get:22 http://archive.ubuntu.com/ubuntu bionic-updates/main amd64 Packages [2,658 kB]\n",
      "Get:23 http://ppa.launchpad.net/deadsnakes/ppa/ubuntu bionic/main amd64 Packages [40.8 kB]\n",
      "Fetched 12.1 MB in 4s (3,400 kB/s)\n",
      "Reading package lists... Done\n"
     ]
    }
   ],
   "source": [
    "import os\n",
    "# Find the latest version of spark 3.0  from http://www-us.apache.org/dist/spark/ and enter as the spark version\n",
    "# For example:\n",
    "spark_version = 'spark-3.0.3'\n",
    "# spark_version = 'spark-3.<enter version>'\n",
    "os.environ['SPARK_VERSION']=spark_version\n",
    "\n",
    "# Install Spark and Java\n",
    "!apt-get update\n",
    "!apt-get install openjdk-11-jdk-headless -qq > /dev/null\n",
    "!wget -q http://www-us.apache.org/dist/spark/$SPARK_VERSION/$SPARK_VERSION-bin-hadoop2.7.tgz\n",
    "!tar xf $SPARK_VERSION-bin-hadoop2.7.tgz\n",
    "!pip install -q findspark\n",
    "\n",
    "# Set Environment Variables\n",
    "os.environ[\"JAVA_HOME\"] = \"/usr/lib/jvm/java-11-openjdk-amd64\"\n",
    "os.environ[\"SPARK_HOME\"] = f\"/content/{spark_version}-bin-hadoop2.7\"\n",
    "\n",
    "# Start a SparkSession\n",
    "import findspark\n",
    "findspark.init()"
   ]
  },
<<<<<<< HEAD
  {
   "cell_type": "code",
   "execution_count": 3,
   "metadata": {
    "id": "oGVWlqSeSXXC"
   },
   "outputs": [],
   "source": [
    "from pyspark.sql import SparkSession\n",
    "spark = SparkSession.builder.appName(\"CloudETL\").config(\"spark.driver.extraClassPath\",\"/content/postgresql-42.2.9.jar\").getOrCreate()"
   ]
  },
  {
   "cell_type": "code",
   "execution_count": 4,
   "metadata": {
    "colab": {
     "base_uri": "https://localhost:8080/"
=======
  "cells": [
    {
      "cell_type": "markdown",
      "metadata": {
        "id": "view-in-github",
        "colab_type": "text"
      },
      "source": [
        "<a href=\"https://colab.research.google.com/github/vijitdesilva/HousePricingPredictions/blob/Clayton-work/House_Price_Predict.ipynb\" target=\"_parent\"><img src=\"https://colab.research.google.com/assets/colab-badge.svg\" alt=\"Open In Colab\"/></a>"
      ]
    },
    {
      "cell_type": "code",
      "metadata": {
        "id": "NSkkWNzXSTTq",
        "colab": {
          "base_uri": "https://localhost:8080/"
        },
        "outputId": "eb53c1d7-c513-4e20-e5f8-4bdcbbe48e70"
      },
      "source": [
        "import os\n",
        "# Find the latest version of spark 3.0  from http://www-us.apache.org/dist/spark/ and enter as the spark version\n",
        "# For example:\n",
        "spark_version = 'spark-3.0.3'\n",
        "# spark_version = 'spark-3.<enter version>'\n",
        "os.environ['SPARK_VERSION']=spark_version\n",
        "\n",
        "# Install Spark and Java\n",
        "!apt-get update\n",
        "!apt-get install openjdk-11-jdk-headless -qq > /dev/null\n",
        "!wget -q http://www-us.apache.org/dist/spark/$SPARK_VERSION/$SPARK_VERSION-bin-hadoop2.7.tgz\n",
        "!tar xf $SPARK_VERSION-bin-hadoop2.7.tgz\n",
        "!pip install -q findspark\n",
        "\n",
        "# Set Environment Variables\n",
        "os.environ[\"JAVA_HOME\"] = \"/usr/lib/jvm/java-11-openjdk-amd64\"\n",
        "os.environ[\"SPARK_HOME\"] = f\"/content/{spark_version}-bin-hadoop2.7\"\n",
        "\n",
        "# Start a SparkSession\n",
        "import findspark\n",
        "findspark.init()"
      ],
      "execution_count": 1,
      "outputs": [
        {
          "output_type": "stream",
          "text": [
            "\r0% [Working]\r            \rGet:1 https://cloud.r-project.org/bin/linux/ubuntu bionic-cran40/ InRelease [3,626 B]\n",
            "Ign:2 https://developer.download.nvidia.com/compute/cuda/repos/ubuntu1804/x86_64  InRelease\n",
            "Get:3 http://security.ubuntu.com/ubuntu bionic-security InRelease [88.7 kB]\n",
            "Ign:4 https://developer.download.nvidia.com/compute/machine-learning/repos/ubuntu1804/x86_64  InRelease\n",
            "Get:5 http://ppa.launchpad.net/c2d4u.team/c2d4u4.0+/ubuntu bionic InRelease [15.9 kB]\n",
            "Get:6 https://developer.download.nvidia.com/compute/cuda/repos/ubuntu1804/x86_64  Release [697 B]\n",
            "Hit:7 https://developer.download.nvidia.com/compute/machine-learning/repos/ubuntu1804/x86_64  Release\n",
            "Hit:8 http://archive.ubuntu.com/ubuntu bionic InRelease\n",
            "Get:9 https://developer.download.nvidia.com/compute/cuda/repos/ubuntu1804/x86_64  Release.gpg [836 B]\n",
            "Get:10 http://archive.ubuntu.com/ubuntu bionic-updates InRelease [88.7 kB]\n",
            "Hit:11 http://ppa.launchpad.net/cran/libgit2/ubuntu bionic InRelease\n",
            "Get:13 http://ppa.launchpad.net/deadsnakes/ppa/ubuntu bionic InRelease [15.9 kB]\n",
            "Get:14 http://archive.ubuntu.com/ubuntu bionic-backports InRelease [74.6 kB]\n",
            "Hit:15 http://ppa.launchpad.net/graphics-drivers/ppa/ubuntu bionic InRelease\n",
            "Ign:16 https://developer.download.nvidia.com/compute/cuda/repos/ubuntu1804/x86_64  Packages\n",
            "Get:16 https://developer.download.nvidia.com/compute/cuda/repos/ubuntu1804/x86_64  Packages [637 kB]\n",
            "Get:17 http://security.ubuntu.com/ubuntu bionic-security/universe amd64 Packages [1,418 kB]\n",
            "Get:18 http://security.ubuntu.com/ubuntu bionic-security/main amd64 Packages [2,221 kB]\n",
            "Get:19 http://ppa.launchpad.net/c2d4u.team/c2d4u4.0+/ubuntu bionic/main Sources [1,780 kB]\n",
            "Get:20 http://archive.ubuntu.com/ubuntu bionic-updates/main amd64 Packages [2,658 kB]\n",
            "Get:21 http://ppa.launchpad.net/c2d4u.team/c2d4u4.0+/ubuntu bionic/main amd64 Packages [910 kB]\n",
            "Get:22 http://archive.ubuntu.com/ubuntu bionic-updates/universe amd64 Packages [2,188 kB]\n",
            "Get:23 http://ppa.launchpad.net/deadsnakes/ppa/ubuntu bionic/main amd64 Packages [40.8 kB]\n",
            "Fetched 12.1 MB in 4s (3,284 kB/s)\n",
            "Reading package lists... Done\n"
          ],
          "name": "stdout"
        }
      ]
    },
    {
      "cell_type": "code",
      "metadata": {
        "id": "oGVWlqSeSXXC"
      },
      "source": [
        "from pyspark.sql import SparkSession\n",
        "spark = SparkSession.builder.appName(\"CloudETL\").config(\"spark.driver.extraClassPath\",\"/content/postgresql-42.2.9.jar\").getOrCreate()"
      ],
      "execution_count": 2,
      "outputs": []
    },
    {
      "cell_type": "markdown",
      "metadata": {
        "id": "3cNo6D9BnSLt"
      },
      "source": [
        "Here, the CSV file on which the house price prediction model will be run is imported. This CSV file has been cleaned and transformed using precisely the same method as the training CSV."
      ]
    },
    {
      "cell_type": "code",
      "metadata": {
        "id": "liNKjB6ogx3W",
        "colab": {
          "base_uri": "https://localhost:8080/"
        },
        "outputId": "4d8fc3c1-0f43-4c9f-8262-979b8af07e88"
      },
      "source": [
        "from pyspark import SparkFiles\n",
        "# Load in train.csv from S3 into a DataFrame\n",
        "url = \"https://finalprojectbootcamp.s3.us-east-2.amazonaws.com/test_converted_df.csv\"\n",
        "spark.sparkContext.addFile(url)\n",
        "\n",
        "df = spark.read.option('header', 'true').csv(SparkFiles.get(\"test_converted_df.csv\"), inferSchema=True, sep=',', timestampFormat=\"mm/dd/yy\")\n",
        "df.show(10)\n",
        "\n",
        "#Convert to Pandas to allow train_test_split usage\n",
        "df = df.select(\"*\").toPandas()\n",
        "df = df.dropna(how=\"any\")"
      ],
      "execution_count": 3,
      "outputs": [
        {
          "output_type": "stream",
          "text": [
            "+----+----------+-----------+-------+-----------+-----------+---------+------------+----------+---------+---------+--------+--------+------------+------------+----------+------------+----------+---------+-----------+---------+------------+---------+------------+------------+--------+--------+------------+------------+-----------+------------+----------+----------+-----------+-----------+------------+----------+----------+----------+----------+----------+-----------+-------------+-----------+--------+------+-----+-------+------+------+-----------+-----------+-----------+-----------+----------+------------+------------+------------+---------------+---------------+---------------+-----------------+-------------+-------------+----------------+-------------+-------------+--------------------+-------------------+--------------------+--------------------+--------------------+--------------------+--------------------+--------------------+-------------------+--------------------+--------------------+------------------+--------------------+-------------------+--------------------+--------------------+--------------------+------------------+-------------------+--------------------+--------------------+--------------------+-------------------+--------------------+----------------+---------------+---------------+---------------+---------------+---------------+---------------+---------------+----------------+---------------+---------------+---------------+---------------+---------------+--------------+---------------+-----------------+-----------------+-----------------+-----------------+-----------------+---------------+---------------+-----------------+-------------+-----------------+--------------+----------------+----------------+----------------+-------------------+-------------------+-------------------+-------------------+-------------------+-------------------+-------------------+------------------+-------------------+-------------------+-------------------+-------------------+-------------------+-------------------+------------------+-------------------+-------------------+-------------------+-------------------+-------------------+-----------------+------------------+-------------------+-------------------+-------------------+------------------+---------------+----------------+-----------------+----------------+---------------+----------------+---------------+------------+------------+------------+------------+----------------+----------------+----------------+-----------------+------------------+------------------+------------------+-----------------+------------+------------+----------------+----------------+------------+------------+--------------+--------------+--------------+------------+------------+-----------+---------------------+--------------------+--------------------+--------------------+---------------------+----------+-----------+----------+\n",
            "|  Id|MSSubClass|LotFrontage|LotArea|OverallQual|OverallCond|YearBuilt|YearRemodAdd|MasVnrArea|ExterQual|ExterCond|BsmtQual|BsmtCond|BsmtExposure|BsmtFinType1|BsmtFinSF1|BsmtFinType2|BsmtFinSF2|BsmtUnfSF|TotalBsmtSF|HeatingQC|LowQualFinSF|GrLivArea|BsmtFullBath|BsmtHalfBath|FullBath|HalfBath|BedroomAbvGr|KitchenAbvGr|KitchenQual|TotRmsAbvGrd|Functional|Fireplaces|FireplaceQu|GarageYrBlt|GarageFinish|GarageCars|GarageArea|GarageQual|GarageCond|WoodDeckSF|OpenPorchSF|EnclosedPorch|ScreenPorch|PoolArea|PoolQC|Fence|MiscVal|MoSold|YrSold|MSZoning_RH|MSZoning_RL|MSZoning_RM|Street_Pave|Alley_Pave|LotShape_IR2|LotShape_IR3|LotShape_Reg|LandContour_HLS|LandContour_Low|LandContour_Lvl|LotConfig_CulDSac|LotConfig_FR2|LotConfig_FR3|LotConfig_Inside|LandSlope_Mod|LandSlope_Sev|Neighborhood_Blueste|Neighborhood_BrDale|Neighborhood_BrkSide|Neighborhood_ClearCr|Neighborhood_CollgCr|Neighborhood_Crawfor|Neighborhood_Edwards|Neighborhood_Gilbert|Neighborhood_IDOTRR|Neighborhood_MeadowV|Neighborhood_Mitchel|Neighborhood_NAmes|Neighborhood_NPkVill|Neighborhood_NWAmes|Neighborhood_NoRidge|Neighborhood_NridgHt|Neighborhood_OldTown|Neighborhood_SWISU|Neighborhood_Sawyer|Neighborhood_SawyerW|Neighborhood_Somerst|Neighborhood_StoneBr|Neighborhood_Timber|Neighborhood_Veenker|Condition1_Feedr|Condition1_Norm|Condition1_PosA|Condition1_PosN|Condition1_RRAe|Condition1_RRAn|Condition1_RRNe|Condition1_RRNn|Condition2_Feedr|Condition2_Norm|Condition2_PosA|Condition2_PosN|BldgType_2fmCon|BldgType_Duplex|BldgType_Twnhs|BldgType_TwnhsE|HouseStyle_1.5Unf|HouseStyle_1Story|HouseStyle_2.5Unf|HouseStyle_2Story|HouseStyle_SFoyer|HouseStyle_SLvl|RoofStyle_Gable|RoofStyle_Gambrel|RoofStyle_Hip|RoofStyle_Mansard|RoofStyle_Shed|RoofMatl_Tar&Grv|RoofMatl_WdShake|RoofMatl_WdShngl|Exterior1st_AsphShn|Exterior1st_BrkComm|Exterior1st_BrkFace|Exterior1st_CemntBd|Exterior1st_HdBoard|Exterior1st_MetalSd|Exterior1st_Plywood|Exterior1st_Stucco|Exterior1st_VinylSd|Exterior1st_Wd Sdng|Exterior1st_WdShing|Exterior2nd_AsphShn|Exterior2nd_Brk Cmn|Exterior2nd_BrkFace|Exterior2nd_CBlock|Exterior2nd_CmentBd|Exterior2nd_HdBoard|Exterior2nd_ImStucc|Exterior2nd_MetalSd|Exterior2nd_Plywood|Exterior2nd_Stone|Exterior2nd_Stucco|Exterior2nd_VinylSd|Exterior2nd_Wd Sdng|Exterior2nd_Wd Shng|MasVnrType_BrkFace|MasVnrType_None|MasVnrType_Stone|Foundation_CBlock|Foundation_PConc|Foundation_Slab|Foundation_Stone|Foundation_Wood|Heating_GasW|Heating_Grav|Heating_Wall|CentralAir_Y|Electrical_FuseF|Electrical_FuseP|Electrical_SBrkr|GarageType_Attchd|GarageType_Basment|GarageType_BuiltIn|GarageType_CarPort|GarageType_Detchd|PavedDrive_P|PavedDrive_Y|MiscFeature_Othr|MiscFeature_Shed|SaleType_CWD|SaleType_Con|SaleType_ConLD|SaleType_ConLI|SaleType_ConLw|SaleType_New|SaleType_Oth|SaleType_WD|SaleCondition_AdjLand|SaleCondition_Alloca|SaleCondition_Family|SaleCondition_Normal|SaleCondition_Partial|firstflrsf|secondflrsf|thirdPorch|\n",
            "+----+----------+-----------+-------+-----------+-----------+---------+------------+----------+---------+---------+--------+--------+------------+------------+----------+------------+----------+---------+-----------+---------+------------+---------+------------+------------+--------+--------+------------+------------+-----------+------------+----------+----------+-----------+-----------+------------+----------+----------+----------+----------+----------+-----------+-------------+-----------+--------+------+-----+-------+------+------+-----------+-----------+-----------+-----------+----------+------------+------------+------------+---------------+---------------+---------------+-----------------+-------------+-------------+----------------+-------------+-------------+--------------------+-------------------+--------------------+--------------------+--------------------+--------------------+--------------------+--------------------+-------------------+--------------------+--------------------+------------------+--------------------+-------------------+--------------------+--------------------+--------------------+------------------+-------------------+--------------------+--------------------+--------------------+-------------------+--------------------+----------------+---------------+---------------+---------------+---------------+---------------+---------------+---------------+----------------+---------------+---------------+---------------+---------------+---------------+--------------+---------------+-----------------+-----------------+-----------------+-----------------+-----------------+---------------+---------------+-----------------+-------------+-----------------+--------------+----------------+----------------+----------------+-------------------+-------------------+-------------------+-------------------+-------------------+-------------------+-------------------+------------------+-------------------+-------------------+-------------------+-------------------+-------------------+-------------------+------------------+-------------------+-------------------+-------------------+-------------------+-------------------+-----------------+------------------+-------------------+-------------------+-------------------+------------------+---------------+----------------+-----------------+----------------+---------------+----------------+---------------+------------+------------+------------+------------+----------------+----------------+----------------+-----------------+------------------+------------------+------------------+-----------------+------------+------------+----------------+----------------+------------+------------+--------------+--------------+--------------+------------+------------+-----------+---------------------+--------------------+--------------------+--------------------+---------------------+----------+-----------+----------+\n",
            "|1461|        20|       80.0|  11622|          5|          6|     1961|        1961|       0.0|        3|        3|       3|       3|           1|           3|     468.0|           2|     144.0|    270.0|      882.0|        3|           0|      896|         0.0|         0.0|       1|       0|           2|           1|          3|           5|         8|         0|          0|     1961.0|           1|       1.0|     730.0|         3|         3|       140|          0|            0|        120|       0|     0|    3|      0|     6|  2010|          1|          0|          0|          1|         0|           0|           0|           1|              0|              0|              1|                0|            0|            0|               1|            0|            0|                   0|                  0|                   0|                   0|                   0|                   0|                   0|                   0|                  0|                   0|                   0|                 1|                   0|                  0|                   0|                   0|                   0|                 0|                  0|                   0|                   0|                   0|                  0|                   0|               1|              0|              0|              0|              0|              0|              0|              0|               0|              1|              0|              0|              0|              0|             0|              0|                0|                1|                0|                0|                0|              0|              1|                0|            0|                0|             0|               0|               0|               0|                  0|                  0|                  0|                  0|                  0|                  0|                  0|                 0|                  1|                  0|                  0|                  0|                  0|                  0|                 0|                  0|                  0|                  0|                  0|                  0|                0|                 0|                  1|                  0|                  0|                 0|              1|               0|                1|               0|              0|               0|              0|           0|           0|           0|           1|               0|               0|               1|                1|                 0|                 0|                 0|                0|           0|           1|               0|               0|           0|           0|             0|             0|             0|           0|           0|          1|                    0|                   0|                   0|                   1|                    0|       896|          0|         0|\n",
            "|1462|        20|       81.0|  14267|          6|          6|     1958|        1958|     108.0|        3|        3|       3|       3|           1|           5|     923.0|           1|       0.0|    406.0|     1329.0|        3|           0|     1329|         0.0|         0.0|       1|       1|           3|           1|          4|           6|         8|         0|          0|     1958.0|           1|       1.0|     312.0|         3|         3|       393|         36|            0|          0|       0|     0|    0|  12500|     6|  2010|          0|          1|          0|          1|         0|           0|           0|           0|              0|              0|              1|                0|            0|            0|               0|            0|            0|                   0|                  0|                   0|                   0|                   0|                   0|                   0|                   0|                  0|                   0|                   0|                 1|                   0|                  0|                   0|                   0|                   0|                 0|                  0|                   0|                   0|                   0|                  0|                   0|               0|              1|              0|              0|              0|              0|              0|              0|               0|              1|              0|              0|              0|              0|             0|              0|                0|                1|                0|                0|                0|              0|              0|                0|            1|                0|             0|               0|               0|               0|                  0|                  0|                  0|                  0|                  0|                  0|                  0|                 0|                  0|                  1|                  0|                  0|                  0|                  0|                 0|                  0|                  0|                  0|                  0|                  0|                0|                 0|                  0|                  1|                  0|                 1|              0|               0|                1|               0|              0|               0|              0|           0|           0|           0|           1|               0|               0|               1|                1|                 0|                 0|                 0|                0|           0|           1|               0|               0|           0|           0|             0|             0|             0|           0|           0|          1|                    0|                   0|                   0|                   1|                    0|      1329|          0|         0|\n",
            "|1463|        60|       74.0|  13830|          5|          5|     1997|        1998|       0.0|        3|        3|       4|       3|           1|           6|     791.0|           1|       0.0|    137.0|      928.0|        4|           0|     1629|         0.0|         0.0|       2|       1|           3|           1|          3|           6|         8|         1|          3|     1997.0|           3|       2.0|     482.0|         3|         3|       212|         34|            0|          0|       0|     0|    3|      0|     3|  2010|          0|          1|          0|          1|         0|           0|           0|           0|              0|              0|              1|                0|            0|            0|               1|            0|            0|                   0|                  0|                   0|                   0|                   0|                   0|                   0|                   1|                  0|                   0|                   0|                 0|                   0|                  0|                   0|                   0|                   0|                 0|                  0|                   0|                   0|                   0|                  0|                   0|               0|              1|              0|              0|              0|              0|              0|              0|               0|              1|              0|              0|              0|              0|             0|              0|                0|                0|                0|                1|                0|              0|              1|                0|            0|                0|             0|               0|               0|               0|                  0|                  0|                  0|                  0|                  0|                  0|                  0|                 0|                  1|                  0|                  0|                  0|                  0|                  0|                 0|                  0|                  0|                  0|                  0|                  0|                0|                 0|                  1|                  0|                  0|                 0|              1|               0|                0|               1|              0|               0|              0|           0|           0|           0|           1|               0|               0|               1|                1|                 0|                 0|                 0|                0|           0|           1|               0|               0|           0|           0|             0|             0|             0|           0|           0|          1|                    0|                   0|                   0|                   1|                    0|       928|        701|         0|\n",
            "|1464|        60|       78.0|   9978|          6|          6|     1998|        1998|      20.0|        3|        3|       3|       3|           1|           6|     602.0|           1|       0.0|    324.0|      926.0|        5|           0|     1604|         0.0|         0.0|       2|       1|           3|           1|          4|           7|         8|         1|          4|     1998.0|           3|       2.0|     470.0|         3|         3|       360|         36|            0|          0|       0|     0|    0|      0|     6|  2010|          0|          1|          0|          1|         0|           0|           0|           0|              0|              0|              1|                0|            0|            0|               1|            0|            0|                   0|                  0|                   0|                   0|                   0|                   0|                   0|                   1|                  0|                   0|                   0|                 0|                   0|                  0|                   0|                   0|                   0|                 0|                  0|                   0|                   0|                   0|                  0|                   0|               0|              1|              0|              0|              0|              0|              0|              0|               0|              1|              0|              0|              0|              0|             0|              0|                0|                0|                0|                1|                0|              0|              1|                0|            0|                0|             0|               0|               0|               0|                  0|                  0|                  0|                  0|                  0|                  0|                  0|                 0|                  1|                  0|                  0|                  0|                  0|                  0|                 0|                  0|                  0|                  0|                  0|                  0|                0|                 0|                  1|                  0|                  0|                 1|              0|               0|                0|               1|              0|               0|              0|           0|           0|           0|           1|               0|               0|               1|                1|                 0|                 0|                 0|                0|           0|           1|               0|               0|           0|           0|             0|             0|             0|           0|           0|          1|                    0|                   0|                   0|                   1|                    0|       926|        678|         0|\n",
            "|1465|       120|       43.0|   5005|          8|          5|     1992|        1992|       0.0|        4|        3|       4|       3|           1|           5|     263.0|           1|       0.0|   1017.0|     1280.0|        5|           0|     1280|         0.0|         0.0|       2|       0|           2|           1|          4|           5|         8|         0|          0|     1992.0|           2|       2.0|     506.0|         3|         3|         0|         82|            0|        144|       0|     0|    0|      0|     1|  2010|          0|          1|          0|          1|         0|           0|           0|           0|              1|              0|              0|                0|            0|            0|               1|            0|            0|                   0|                  0|                   0|                   0|                   0|                   0|                   0|                   0|                  0|                   0|                   0|                 0|                   0|                  0|                   0|                   0|                   0|                 0|                  0|                   0|                   0|                   1|                  0|                   0|               0|              1|              0|              0|              0|              0|              0|              0|               0|              1|              0|              0|              0|              0|             0|              1|                0|                1|                0|                0|                0|              0|              1|                0|            0|                0|             0|               0|               0|               0|                  0|                  0|                  0|                  0|                  1|                  0|                  0|                 0|                  0|                  0|                  0|                  0|                  0|                  0|                 0|                  0|                  1|                  0|                  0|                  0|                0|                 0|                  0|                  0|                  0|                 0|              1|               0|                0|               1|              0|               0|              0|           0|           0|           0|           1|               0|               0|               1|                1|                 0|                 0|                 0|                0|           0|           1|               0|               0|           0|           0|             0|             0|             0|           0|           0|          1|                    0|                   0|                   0|                   1|                    0|      1280|          0|         0|\n",
            "|1466|        60|       75.0|  10000|          6|          5|     1993|        1994|       0.0|        3|        3|       4|       3|           1|           1|       0.0|           1|       0.0|    763.0|      763.0|        4|           0|     1655|         0.0|         0.0|       2|       1|           3|           1|          3|           7|         8|         1|          3|     1993.0|           3|       2.0|     440.0|         3|         3|       157|         84|            0|          0|       0|     0|    0|      0|     4|  2010|          0|          1|          0|          1|         0|           0|           0|           0|              0|              0|              1|                0|            0|            0|               0|            0|            0|                   0|                  0|                   0|                   0|                   0|                   0|                   0|                   1|                  0|                   0|                   0|                 0|                   0|                  0|                   0|                   0|                   0|                 0|                  0|                   0|                   0|                   0|                  0|                   0|               0|              1|              0|              0|              0|              0|              0|              0|               0|              1|              0|              0|              0|              0|             0|              0|                0|                0|                0|                1|                0|              0|              1|                0|            0|                0|             0|               0|               0|               0|                  0|                  0|                  0|                  0|                  1|                  0|                  0|                 0|                  0|                  0|                  0|                  0|                  0|                  0|                 0|                  0|                  1|                  0|                  0|                  0|                0|                 0|                  0|                  0|                  0|                 0|              1|               0|                0|               1|              0|               0|              0|           0|           0|           0|           1|               0|               0|               1|                1|                 0|                 0|                 0|                0|           0|           1|               0|               0|           0|           0|             0|             0|             0|           0|           0|          1|                    0|                   0|                   0|                   1|                    0|       763|        892|         0|\n",
            "|1467|        20|        0.0|   7980|          6|          7|     1992|        2007|       0.0|        3|        4|       4|       3|           1|           5|     935.0|           1|       0.0|    233.0|     1168.0|        5|           0|     1187|         1.0|         0.0|       2|       0|           3|           1|          3|           6|         8|         0|          0|     1992.0|           3|       2.0|     420.0|         3|         3|       483|         21|            0|          0|       0|     0|    4|    500|     3|  2010|          0|          1|          0|          1|         0|           0|           0|           0|              0|              0|              1|                0|            0|            0|               1|            0|            0|                   0|                  0|                   0|                   0|                   0|                   0|                   0|                   1|                  0|                   0|                   0|                 0|                   0|                  0|                   0|                   0|                   0|                 0|                  0|                   0|                   0|                   0|                  0|                   0|               0|              1|              0|              0|              0|              0|              0|              0|               0|              1|              0|              0|              0|              0|             0|              0|                0|                1|                0|                0|                0|              0|              1|                0|            0|                0|             0|               0|               0|               0|                  0|                  0|                  0|                  0|                  1|                  0|                  0|                 0|                  0|                  0|                  0|                  0|                  0|                  0|                 0|                  0|                  1|                  0|                  0|                  0|                0|                 0|                  0|                  0|                  0|                 0|              1|               0|                0|               1|              0|               0|              0|           0|           0|           0|           1|               0|               0|               1|                1|                 0|                 0|                 0|                0|           0|           1|               0|               1|           0|           0|             0|             0|             0|           0|           0|          1|                    0|                   0|                   0|                   1|                    0|      1187|          0|         0|\n",
            "|1468|        60|       63.0|   8402|          6|          5|     1998|        1998|       0.0|        3|        3|       4|       3|           1|           1|       0.0|           1|       0.0|    789.0|      789.0|        4|           0|     1465|         0.0|         0.0|       2|       1|           3|           1|          3|           7|         8|         1|          4|     1998.0|           3|       2.0|     393.0|         3|         3|         0|         75|            0|          0|       0|     0|    0|      0|     5|  2010|          0|          1|          0|          1|         0|           0|           0|           0|              0|              0|              1|                0|            0|            0|               1|            0|            0|                   0|                  0|                   0|                   0|                   0|                   0|                   0|                   1|                  0|                   0|                   0|                 0|                   0|                  0|                   0|                   0|                   0|                 0|                  0|                   0|                   0|                   0|                  0|                   0|               0|              1|              0|              0|              0|              0|              0|              0|               0|              1|              0|              0|              0|              0|             0|              0|                0|                0|                0|                1|                0|              0|              1|                0|            0|                0|             0|               0|               0|               0|                  0|                  0|                  0|                  0|                  0|                  0|                  0|                 0|                  1|                  0|                  0|                  0|                  0|                  0|                 0|                  0|                  0|                  0|                  0|                  0|                0|                 0|                  1|                  0|                  0|                 0|              1|               0|                0|               1|              0|               0|              0|           0|           0|           0|           1|               0|               0|               1|                1|                 0|                 0|                 0|                0|           0|           1|               0|               0|           0|           0|             0|             0|             0|           0|           0|          1|                    0|                   0|                   0|                   1|                    0|       789|        676|         0|\n",
            "|1469|        20|       85.0|  10176|          7|          5|     1990|        1990|       0.0|        3|        3|       4|       3|           4|           6|     637.0|           1|       0.0|    663.0|     1300.0|        4|           0|     1341|         1.0|         0.0|       1|       1|           2|           1|          4|           5|         8|         1|          1|     1990.0|           1|       2.0|     506.0|         3|         3|       192|          0|            0|          0|       0|     0|    0|      0|     2|  2010|          0|          1|          0|          1|         0|           0|           0|           1|              0|              0|              1|                0|            0|            0|               1|            0|            0|                   0|                  0|                   0|                   0|                   0|                   0|                   0|                   1|                  0|                   0|                   0|                 0|                   0|                  0|                   0|                   0|                   0|                 0|                  0|                   0|                   0|                   0|                  0|                   0|               0|              1|              0|              0|              0|              0|              0|              0|               0|              1|              0|              0|              0|              0|             0|              0|                0|                1|                0|                0|                0|              0|              1|                0|            0|                0|             0|               0|               0|               0|                  0|                  0|                  0|                  0|                  1|                  0|                  0|                 0|                  0|                  0|                  0|                  0|                  0|                  0|                 0|                  0|                  1|                  0|                  0|                  0|                0|                 0|                  0|                  0|                  0|                 0|              1|               0|                0|               1|              0|               0|              0|           0|           0|           0|           1|               0|               0|               1|                1|                 0|                 0|                 0|                0|           0|           1|               0|               0|           0|           0|             0|             0|             0|           0|           0|          1|                    0|                   0|                   0|                   1|                    0|      1341|          0|         0|\n",
            "|1470|        20|       70.0|   8400|          4|          5|     1970|        1970|       0.0|        3|        3|       3|       3|           1|           5|     804.0|           3|      78.0|      0.0|      882.0|        3|           0|      882|         1.0|         0.0|       1|       0|           2|           1|          3|           4|         8|         0|          0|     1970.0|           3|       2.0|     525.0|         3|         3|       240|          0|            0|          0|       0|     0|    3|      0|     4|  2010|          0|          1|          0|          1|         0|           0|           0|           1|              0|              0|              1|                0|            0|            0|               0|            0|            0|                   0|                  0|                   0|                   0|                   0|                   0|                   0|                   0|                  0|                   0|                   0|                 1|                   0|                  0|                   0|                   0|                   0|                 0|                  0|                   0|                   0|                   0|                  0|                   0|               0|              1|              0|              0|              0|              0|              0|              0|               0|              1|              0|              0|              0|              0|             0|              0|                0|                1|                0|                0|                0|              0|              1|                0|            0|                0|             0|               0|               0|               0|                  0|                  0|                  0|                  0|                  0|                  0|                  1|                 0|                  0|                  0|                  0|                  0|                  0|                  0|                 0|                  0|                  0|                  0|                  0|                  1|                0|                 0|                  0|                  0|                  0|                 0|              1|               0|                1|               0|              0|               0|              0|           0|           0|           0|           1|               0|               0|               1|                1|                 0|                 0|                 0|                0|           0|           1|               0|               0|           0|           0|             0|             0|             0|           0|           0|          1|                    0|                   0|                   0|                   1|                    0|       882|          0|         0|\n",
            "+----+----------+-----------+-------+-----------+-----------+---------+------------+----------+---------+---------+--------+--------+------------+------------+----------+------------+----------+---------+-----------+---------+------------+---------+------------+------------+--------+--------+------------+------------+-----------+------------+----------+----------+-----------+-----------+------------+----------+----------+----------+----------+----------+-----------+-------------+-----------+--------+------+-----+-------+------+------+-----------+-----------+-----------+-----------+----------+------------+------------+------------+---------------+---------------+---------------+-----------------+-------------+-------------+----------------+-------------+-------------+--------------------+-------------------+--------------------+--------------------+--------------------+--------------------+--------------------+--------------------+-------------------+--------------------+--------------------+------------------+--------------------+-------------------+--------------------+--------------------+--------------------+------------------+-------------------+--------------------+--------------------+--------------------+-------------------+--------------------+----------------+---------------+---------------+---------------+---------------+---------------+---------------+---------------+----------------+---------------+---------------+---------------+---------------+---------------+--------------+---------------+-----------------+-----------------+-----------------+-----------------+-----------------+---------------+---------------+-----------------+-------------+-----------------+--------------+----------------+----------------+----------------+-------------------+-------------------+-------------------+-------------------+-------------------+-------------------+-------------------+------------------+-------------------+-------------------+-------------------+-------------------+-------------------+-------------------+------------------+-------------------+-------------------+-------------------+-------------------+-------------------+-----------------+------------------+-------------------+-------------------+-------------------+------------------+---------------+----------------+-----------------+----------------+---------------+----------------+---------------+------------+------------+------------+------------+----------------+----------------+----------------+-----------------+------------------+------------------+------------------+-----------------+------------+------------+----------------+----------------+------------+------------+--------------+--------------+--------------+------------+------------+-----------+---------------------+--------------------+--------------------+--------------------+---------------------+----------+-----------+----------+\n",
            "only showing top 10 rows\n",
            "\n"
          ],
          "name": "stdout"
        }
      ]
    },
    {
      "cell_type": "code",
      "metadata": {
        "id": "5-NxTTydTQjo"
      },
      "source": [
        "# Import RandomForestRegressor and Pickle\n",
        "\n",
        "from sklearn.ensemble import RandomForestRegressor\n",
        "import pickle"
      ],
      "execution_count": 4,
      "outputs": []
    },
    {
      "cell_type": "markdown",
      "metadata": {
        "id": "GJN89q3An-ZO"
      },
      "source": [
        "Now that the Random Forest regressor has been imported, pickle is used to load the trained and finalized model."
      ]
    },
    {
      "cell_type": "code",
      "metadata": {
        "id": "jx69YVpRMxp3"
      },
      "source": [
        "#Load model\n",
        "#NOTE: Must manually load file before un-pickling\n",
        "\n",
        "model = pickle.load(open(\"VLC_Ames_Housing_Price_Model\", 'rb'))"
      ],
      "execution_count": 5,
      "outputs": []
    },
    {
      "cell_type": "markdown",
      "metadata": {
        "id": "6V2hNVw5oNFc"
      },
      "source": [
        "The dataframe of variables which the model will use to predict the house price is created. To reduce overfitting the model, 10 variables were determined which have the highest feature importance to the model. Once the datframe is created the model is run and an array of predicted prices is received."
      ]
    },
    {
      "cell_type": "code",
      "metadata": {
        "id": "sqaBn6ZIz4b-",
        "colab": {
          "base_uri": "https://localhost:8080/"
        },
        "outputId": "6d3665fd-300d-4561-a9f7-950749605f97"
      },
      "source": [
        "X_predict = df[[\"firstflrsf\", \n",
        "                \"GrLivArea\", \n",
        "                \"LotArea\", \n",
        "                \"GarageArea\", \n",
        "                \"BsmtUnfSF\", \n",
        "                \"TotalBsmtSF\", \n",
        "                \"LotFrontage\", \n",
        "                \"GarageYrBlt\", \n",
        "                \"MoSold\", \n",
        "                \"YearBuilt\"]]\n",
        "\n",
        "y_predict = model.predict(X_predict)\n",
        "\n",
        "print(y_predict)"
      ],
      "execution_count": 6,
      "outputs": [
        {
          "output_type": "stream",
          "text": [
            "[132189.99 161919.5  185122.   ... 153574.18 113218.   232581.23]\n"
          ],
          "name": "stdout"
        }
      ]
>>>>>>> 21ebbd06d45ecd3fd598ecbb7d5c12a677072fae
    },
    "id": "liNKjB6ogx3W",
    "outputId": "1bad8841-f604-4f9e-a3a7-377ede1fcc89"
   },
   "outputs": [
    {
<<<<<<< HEAD
     "name": "stdout",
     "output_type": "stream",
     "text": [
      "+----+----------+-----------+-------+-----------+-----------+---------+------------+----------+---------+---------+--------+--------+------------+------------+----------+------------+----------+---------+-----------+---------+------------+---------+------------+------------+--------+--------+------------+------------+-----------+------------+----------+----------+-----------+-----------+------------+----------+----------+----------+----------+----------+-----------+-------------+-----------+--------+------+-----+-------+------+------+-----------+-----------+-----------+-----------+----------+------------+------------+------------+---------------+---------------+---------------+-----------------+-------------+-------------+----------------+-------------+-------------+--------------------+-------------------+--------------------+--------------------+--------------------+--------------------+--------------------+--------------------+-------------------+--------------------+--------------------+------------------+--------------------+-------------------+--------------------+--------------------+--------------------+------------------+-------------------+--------------------+--------------------+--------------------+-------------------+--------------------+----------------+---------------+---------------+---------------+---------------+---------------+---------------+---------------+----------------+---------------+---------------+---------------+---------------+---------------+--------------+---------------+-----------------+-----------------+-----------------+-----------------+-----------------+---------------+---------------+-----------------+-------------+-----------------+--------------+----------------+----------------+----------------+-------------------+-------------------+-------------------+-------------------+-------------------+-------------------+-------------------+------------------+-------------------+-------------------+-------------------+-------------------+-------------------+-------------------+------------------+-------------------+-------------------+-------------------+-------------------+-------------------+-----------------+------------------+-------------------+-------------------+-------------------+------------------+---------------+----------------+-----------------+----------------+---------------+----------------+---------------+------------+------------+------------+------------+----------------+----------------+----------------+-----------------+------------------+------------------+------------------+-----------------+------------+------------+----------------+----------------+------------+------------+--------------+--------------+--------------+------------+------------+-----------+---------------------+--------------------+--------------------+--------------------+---------------------+----------+-----------+----------+\n",
      "|  Id|MSSubClass|LotFrontage|LotArea|OverallQual|OverallCond|YearBuilt|YearRemodAdd|MasVnrArea|ExterQual|ExterCond|BsmtQual|BsmtCond|BsmtExposure|BsmtFinType1|BsmtFinSF1|BsmtFinType2|BsmtFinSF2|BsmtUnfSF|TotalBsmtSF|HeatingQC|LowQualFinSF|GrLivArea|BsmtFullBath|BsmtHalfBath|FullBath|HalfBath|BedroomAbvGr|KitchenAbvGr|KitchenQual|TotRmsAbvGrd|Functional|Fireplaces|FireplaceQu|GarageYrBlt|GarageFinish|GarageCars|GarageArea|GarageQual|GarageCond|WoodDeckSF|OpenPorchSF|EnclosedPorch|ScreenPorch|PoolArea|PoolQC|Fence|MiscVal|MoSold|YrSold|MSZoning_RH|MSZoning_RL|MSZoning_RM|Street_Pave|Alley_Pave|LotShape_IR2|LotShape_IR3|LotShape_Reg|LandContour_HLS|LandContour_Low|LandContour_Lvl|LotConfig_CulDSac|LotConfig_FR2|LotConfig_FR3|LotConfig_Inside|LandSlope_Mod|LandSlope_Sev|Neighborhood_Blueste|Neighborhood_BrDale|Neighborhood_BrkSide|Neighborhood_ClearCr|Neighborhood_CollgCr|Neighborhood_Crawfor|Neighborhood_Edwards|Neighborhood_Gilbert|Neighborhood_IDOTRR|Neighborhood_MeadowV|Neighborhood_Mitchel|Neighborhood_NAmes|Neighborhood_NPkVill|Neighborhood_NWAmes|Neighborhood_NoRidge|Neighborhood_NridgHt|Neighborhood_OldTown|Neighborhood_SWISU|Neighborhood_Sawyer|Neighborhood_SawyerW|Neighborhood_Somerst|Neighborhood_StoneBr|Neighborhood_Timber|Neighborhood_Veenker|Condition1_Feedr|Condition1_Norm|Condition1_PosA|Condition1_PosN|Condition1_RRAe|Condition1_RRAn|Condition1_RRNe|Condition1_RRNn|Condition2_Feedr|Condition2_Norm|Condition2_PosA|Condition2_PosN|BldgType_2fmCon|BldgType_Duplex|BldgType_Twnhs|BldgType_TwnhsE|HouseStyle_1.5Unf|HouseStyle_1Story|HouseStyle_2.5Unf|HouseStyle_2Story|HouseStyle_SFoyer|HouseStyle_SLvl|RoofStyle_Gable|RoofStyle_Gambrel|RoofStyle_Hip|RoofStyle_Mansard|RoofStyle_Shed|RoofMatl_Tar&Grv|RoofMatl_WdShake|RoofMatl_WdShngl|Exterior1st_AsphShn|Exterior1st_BrkComm|Exterior1st_BrkFace|Exterior1st_CemntBd|Exterior1st_HdBoard|Exterior1st_MetalSd|Exterior1st_Plywood|Exterior1st_Stucco|Exterior1st_VinylSd|Exterior1st_Wd Sdng|Exterior1st_WdShing|Exterior2nd_AsphShn|Exterior2nd_Brk Cmn|Exterior2nd_BrkFace|Exterior2nd_CBlock|Exterior2nd_CmentBd|Exterior2nd_HdBoard|Exterior2nd_ImStucc|Exterior2nd_MetalSd|Exterior2nd_Plywood|Exterior2nd_Stone|Exterior2nd_Stucco|Exterior2nd_VinylSd|Exterior2nd_Wd Sdng|Exterior2nd_Wd Shng|MasVnrType_BrkFace|MasVnrType_None|MasVnrType_Stone|Foundation_CBlock|Foundation_PConc|Foundation_Slab|Foundation_Stone|Foundation_Wood|Heating_GasW|Heating_Grav|Heating_Wall|CentralAir_Y|Electrical_FuseF|Electrical_FuseP|Electrical_SBrkr|GarageType_Attchd|GarageType_Basment|GarageType_BuiltIn|GarageType_CarPort|GarageType_Detchd|PavedDrive_P|PavedDrive_Y|MiscFeature_Othr|MiscFeature_Shed|SaleType_CWD|SaleType_Con|SaleType_ConLD|SaleType_ConLI|SaleType_ConLw|SaleType_New|SaleType_Oth|SaleType_WD|SaleCondition_AdjLand|SaleCondition_Alloca|SaleCondition_Family|SaleCondition_Normal|SaleCondition_Partial|firstflrsf|secondflrsf|thirdPorch|\n",
      "+----+----------+-----------+-------+-----------+-----------+---------+------------+----------+---------+---------+--------+--------+------------+------------+----------+------------+----------+---------+-----------+---------+------------+---------+------------+------------+--------+--------+------------+------------+-----------+------------+----------+----------+-----------+-----------+------------+----------+----------+----------+----------+----------+-----------+-------------+-----------+--------+------+-----+-------+------+------+-----------+-----------+-----------+-----------+----------+------------+------------+------------+---------------+---------------+---------------+-----------------+-------------+-------------+----------------+-------------+-------------+--------------------+-------------------+--------------------+--------------------+--------------------+--------------------+--------------------+--------------------+-------------------+--------------------+--------------------+------------------+--------------------+-------------------+--------------------+--------------------+--------------------+------------------+-------------------+--------------------+--------------------+--------------------+-------------------+--------------------+----------------+---------------+---------------+---------------+---------------+---------------+---------------+---------------+----------------+---------------+---------------+---------------+---------------+---------------+--------------+---------------+-----------------+-----------------+-----------------+-----------------+-----------------+---------------+---------------+-----------------+-------------+-----------------+--------------+----------------+----------------+----------------+-------------------+-------------------+-------------------+-------------------+-------------------+-------------------+-------------------+------------------+-------------------+-------------------+-------------------+-------------------+-------------------+-------------------+------------------+-------------------+-------------------+-------------------+-------------------+-------------------+-----------------+------------------+-------------------+-------------------+-------------------+------------------+---------------+----------------+-----------------+----------------+---------------+----------------+---------------+------------+------------+------------+------------+----------------+----------------+----------------+-----------------+------------------+------------------+------------------+-----------------+------------+------------+----------------+----------------+------------+------------+--------------+--------------+--------------+------------+------------+-----------+---------------------+--------------------+--------------------+--------------------+---------------------+----------+-----------+----------+\n",
      "|1461|        20|       80.0|  11622|          5|          6|     1961|        1961|       0.0|        3|        3|       3|       3|           1|           3|     468.0|           2|     144.0|    270.0|      882.0|        3|           0|      896|         0.0|         0.0|       1|       0|           2|           1|          3|           5|         8|         0|          0|     1961.0|           1|       1.0|     730.0|         3|         3|       140|          0|            0|        120|       0|     0|    3|      0|     6|  2010|          1|          0|          0|          1|         0|           0|           0|           1|              0|              0|              1|                0|            0|            0|               1|            0|            0|                   0|                  0|                   0|                   0|                   0|                   0|                   0|                   0|                  0|                   0|                   0|                 1|                   0|                  0|                   0|                   0|                   0|                 0|                  0|                   0|                   0|                   0|                  0|                   0|               1|              0|              0|              0|              0|              0|              0|              0|               0|              1|              0|              0|              0|              0|             0|              0|                0|                1|                0|                0|                0|              0|              1|                0|            0|                0|             0|               0|               0|               0|                  0|                  0|                  0|                  0|                  0|                  0|                  0|                 0|                  1|                  0|                  0|                  0|                  0|                  0|                 0|                  0|                  0|                  0|                  0|                  0|                0|                 0|                  1|                  0|                  0|                 0|              1|               0|                1|               0|              0|               0|              0|           0|           0|           0|           1|               0|               0|               1|                1|                 0|                 0|                 0|                0|           0|           1|               0|               0|           0|           0|             0|             0|             0|           0|           0|          1|                    0|                   0|                   0|                   1|                    0|       896|          0|         0|\n",
      "|1462|        20|       81.0|  14267|          6|          6|     1958|        1958|     108.0|        3|        3|       3|       3|           1|           5|     923.0|           1|       0.0|    406.0|     1329.0|        3|           0|     1329|         0.0|         0.0|       1|       1|           3|           1|          4|           6|         8|         0|          0|     1958.0|           1|       1.0|     312.0|         3|         3|       393|         36|            0|          0|       0|     0|    0|  12500|     6|  2010|          0|          1|          0|          1|         0|           0|           0|           0|              0|              0|              1|                0|            0|            0|               0|            0|            0|                   0|                  0|                   0|                   0|                   0|                   0|                   0|                   0|                  0|                   0|                   0|                 1|                   0|                  0|                   0|                   0|                   0|                 0|                  0|                   0|                   0|                   0|                  0|                   0|               0|              1|              0|              0|              0|              0|              0|              0|               0|              1|              0|              0|              0|              0|             0|              0|                0|                1|                0|                0|                0|              0|              0|                0|            1|                0|             0|               0|               0|               0|                  0|                  0|                  0|                  0|                  0|                  0|                  0|                 0|                  0|                  1|                  0|                  0|                  0|                  0|                 0|                  0|                  0|                  0|                  0|                  0|                0|                 0|                  0|                  1|                  0|                 1|              0|               0|                1|               0|              0|               0|              0|           0|           0|           0|           1|               0|               0|               1|                1|                 0|                 0|                 0|                0|           0|           1|               0|               0|           0|           0|             0|             0|             0|           0|           0|          1|                    0|                   0|                   0|                   1|                    0|      1329|          0|         0|\n",
      "|1463|        60|       74.0|  13830|          5|          5|     1997|        1998|       0.0|        3|        3|       4|       3|           1|           6|     791.0|           1|       0.0|    137.0|      928.0|        4|           0|     1629|         0.0|         0.0|       2|       1|           3|           1|          3|           6|         8|         1|          3|     1997.0|           3|       2.0|     482.0|         3|         3|       212|         34|            0|          0|       0|     0|    3|      0|     3|  2010|          0|          1|          0|          1|         0|           0|           0|           0|              0|              0|              1|                0|            0|            0|               1|            0|            0|                   0|                  0|                   0|                   0|                   0|                   0|                   0|                   1|                  0|                   0|                   0|                 0|                   0|                  0|                   0|                   0|                   0|                 0|                  0|                   0|                   0|                   0|                  0|                   0|               0|              1|              0|              0|              0|              0|              0|              0|               0|              1|              0|              0|              0|              0|             0|              0|                0|                0|                0|                1|                0|              0|              1|                0|            0|                0|             0|               0|               0|               0|                  0|                  0|                  0|                  0|                  0|                  0|                  0|                 0|                  1|                  0|                  0|                  0|                  0|                  0|                 0|                  0|                  0|                  0|                  0|                  0|                0|                 0|                  1|                  0|                  0|                 0|              1|               0|                0|               1|              0|               0|              0|           0|           0|           0|           1|               0|               0|               1|                1|                 0|                 0|                 0|                0|           0|           1|               0|               0|           0|           0|             0|             0|             0|           0|           0|          1|                    0|                   0|                   0|                   1|                    0|       928|        701|         0|\n",
      "|1464|        60|       78.0|   9978|          6|          6|     1998|        1998|      20.0|        3|        3|       3|       3|           1|           6|     602.0|           1|       0.0|    324.0|      926.0|        5|           0|     1604|         0.0|         0.0|       2|       1|           3|           1|          4|           7|         8|         1|          4|     1998.0|           3|       2.0|     470.0|         3|         3|       360|         36|            0|          0|       0|     0|    0|      0|     6|  2010|          0|          1|          0|          1|         0|           0|           0|           0|              0|              0|              1|                0|            0|            0|               1|            0|            0|                   0|                  0|                   0|                   0|                   0|                   0|                   0|                   1|                  0|                   0|                   0|                 0|                   0|                  0|                   0|                   0|                   0|                 0|                  0|                   0|                   0|                   0|                  0|                   0|               0|              1|              0|              0|              0|              0|              0|              0|               0|              1|              0|              0|              0|              0|             0|              0|                0|                0|                0|                1|                0|              0|              1|                0|            0|                0|             0|               0|               0|               0|                  0|                  0|                  0|                  0|                  0|                  0|                  0|                 0|                  1|                  0|                  0|                  0|                  0|                  0|                 0|                  0|                  0|                  0|                  0|                  0|                0|                 0|                  1|                  0|                  0|                 1|              0|               0|                0|               1|              0|               0|              0|           0|           0|           0|           1|               0|               0|               1|                1|                 0|                 0|                 0|                0|           0|           1|               0|               0|           0|           0|             0|             0|             0|           0|           0|          1|                    0|                   0|                   0|                   1|                    0|       926|        678|         0|\n",
      "|1465|       120|       43.0|   5005|          8|          5|     1992|        1992|       0.0|        4|        3|       4|       3|           1|           5|     263.0|           1|       0.0|   1017.0|     1280.0|        5|           0|     1280|         0.0|         0.0|       2|       0|           2|           1|          4|           5|         8|         0|          0|     1992.0|           2|       2.0|     506.0|         3|         3|         0|         82|            0|        144|       0|     0|    0|      0|     1|  2010|          0|          1|          0|          1|         0|           0|           0|           0|              1|              0|              0|                0|            0|            0|               1|            0|            0|                   0|                  0|                   0|                   0|                   0|                   0|                   0|                   0|                  0|                   0|                   0|                 0|                   0|                  0|                   0|                   0|                   0|                 0|                  0|                   0|                   0|                   1|                  0|                   0|               0|              1|              0|              0|              0|              0|              0|              0|               0|              1|              0|              0|              0|              0|             0|              1|                0|                1|                0|                0|                0|              0|              1|                0|            0|                0|             0|               0|               0|               0|                  0|                  0|                  0|                  0|                  1|                  0|                  0|                 0|                  0|                  0|                  0|                  0|                  0|                  0|                 0|                  0|                  1|                  0|                  0|                  0|                0|                 0|                  0|                  0|                  0|                 0|              1|               0|                0|               1|              0|               0|              0|           0|           0|           0|           1|               0|               0|               1|                1|                 0|                 0|                 0|                0|           0|           1|               0|               0|           0|           0|             0|             0|             0|           0|           0|          1|                    0|                   0|                   0|                   1|                    0|      1280|          0|         0|\n",
      "|1466|        60|       75.0|  10000|          6|          5|     1993|        1994|       0.0|        3|        3|       4|       3|           1|           1|       0.0|           1|       0.0|    763.0|      763.0|        4|           0|     1655|         0.0|         0.0|       2|       1|           3|           1|          3|           7|         8|         1|          3|     1993.0|           3|       2.0|     440.0|         3|         3|       157|         84|            0|          0|       0|     0|    0|      0|     4|  2010|          0|          1|          0|          1|         0|           0|           0|           0|              0|              0|              1|                0|            0|            0|               0|            0|            0|                   0|                  0|                   0|                   0|                   0|                   0|                   0|                   1|                  0|                   0|                   0|                 0|                   0|                  0|                   0|                   0|                   0|                 0|                  0|                   0|                   0|                   0|                  0|                   0|               0|              1|              0|              0|              0|              0|              0|              0|               0|              1|              0|              0|              0|              0|             0|              0|                0|                0|                0|                1|                0|              0|              1|                0|            0|                0|             0|               0|               0|               0|                  0|                  0|                  0|                  0|                  1|                  0|                  0|                 0|                  0|                  0|                  0|                  0|                  0|                  0|                 0|                  0|                  1|                  0|                  0|                  0|                0|                 0|                  0|                  0|                  0|                 0|              1|               0|                0|               1|              0|               0|              0|           0|           0|           0|           1|               0|               0|               1|                1|                 0|                 0|                 0|                0|           0|           1|               0|               0|           0|           0|             0|             0|             0|           0|           0|          1|                    0|                   0|                   0|                   1|                    0|       763|        892|         0|\n",
      "|1467|        20|        0.0|   7980|          6|          7|     1992|        2007|       0.0|        3|        4|       4|       3|           1|           5|     935.0|           1|       0.0|    233.0|     1168.0|        5|           0|     1187|         1.0|         0.0|       2|       0|           3|           1|          3|           6|         8|         0|          0|     1992.0|           3|       2.0|     420.0|         3|         3|       483|         21|            0|          0|       0|     0|    4|    500|     3|  2010|          0|          1|          0|          1|         0|           0|           0|           0|              0|              0|              1|                0|            0|            0|               1|            0|            0|                   0|                  0|                   0|                   0|                   0|                   0|                   0|                   1|                  0|                   0|                   0|                 0|                   0|                  0|                   0|                   0|                   0|                 0|                  0|                   0|                   0|                   0|                  0|                   0|               0|              1|              0|              0|              0|              0|              0|              0|               0|              1|              0|              0|              0|              0|             0|              0|                0|                1|                0|                0|                0|              0|              1|                0|            0|                0|             0|               0|               0|               0|                  0|                  0|                  0|                  0|                  1|                  0|                  0|                 0|                  0|                  0|                  0|                  0|                  0|                  0|                 0|                  0|                  1|                  0|                  0|                  0|                0|                 0|                  0|                  0|                  0|                 0|              1|               0|                0|               1|              0|               0|              0|           0|           0|           0|           1|               0|               0|               1|                1|                 0|                 0|                 0|                0|           0|           1|               0|               1|           0|           0|             0|             0|             0|           0|           0|          1|                    0|                   0|                   0|                   1|                    0|      1187|          0|         0|\n",
      "|1468|        60|       63.0|   8402|          6|          5|     1998|        1998|       0.0|        3|        3|       4|       3|           1|           1|       0.0|           1|       0.0|    789.0|      789.0|        4|           0|     1465|         0.0|         0.0|       2|       1|           3|           1|          3|           7|         8|         1|          4|     1998.0|           3|       2.0|     393.0|         3|         3|         0|         75|            0|          0|       0|     0|    0|      0|     5|  2010|          0|          1|          0|          1|         0|           0|           0|           0|              0|              0|              1|                0|            0|            0|               1|            0|            0|                   0|                  0|                   0|                   0|                   0|                   0|                   0|                   1|                  0|                   0|                   0|                 0|                   0|                  0|                   0|                   0|                   0|                 0|                  0|                   0|                   0|                   0|                  0|                   0|               0|              1|              0|              0|              0|              0|              0|              0|               0|              1|              0|              0|              0|              0|             0|              0|                0|                0|                0|                1|                0|              0|              1|                0|            0|                0|             0|               0|               0|               0|                  0|                  0|                  0|                  0|                  0|                  0|                  0|                 0|                  1|                  0|                  0|                  0|                  0|                  0|                 0|                  0|                  0|                  0|                  0|                  0|                0|                 0|                  1|                  0|                  0|                 0|              1|               0|                0|               1|              0|               0|              0|           0|           0|           0|           1|               0|               0|               1|                1|                 0|                 0|                 0|                0|           0|           1|               0|               0|           0|           0|             0|             0|             0|           0|           0|          1|                    0|                   0|                   0|                   1|                    0|       789|        676|         0|\n",
      "|1469|        20|       85.0|  10176|          7|          5|     1990|        1990|       0.0|        3|        3|       4|       3|           4|           6|     637.0|           1|       0.0|    663.0|     1300.0|        4|           0|     1341|         1.0|         0.0|       1|       1|           2|           1|          4|           5|         8|         1|          1|     1990.0|           1|       2.0|     506.0|         3|         3|       192|          0|            0|          0|       0|     0|    0|      0|     2|  2010|          0|          1|          0|          1|         0|           0|           0|           1|              0|              0|              1|                0|            0|            0|               1|            0|            0|                   0|                  0|                   0|                   0|                   0|                   0|                   0|                   1|                  0|                   0|                   0|                 0|                   0|                  0|                   0|                   0|                   0|                 0|                  0|                   0|                   0|                   0|                  0|                   0|               0|              1|              0|              0|              0|              0|              0|              0|               0|              1|              0|              0|              0|              0|             0|              0|                0|                1|                0|                0|                0|              0|              1|                0|            0|                0|             0|               0|               0|               0|                  0|                  0|                  0|                  0|                  1|                  0|                  0|                 0|                  0|                  0|                  0|                  0|                  0|                  0|                 0|                  0|                  1|                  0|                  0|                  0|                0|                 0|                  0|                  0|                  0|                 0|              1|               0|                0|               1|              0|               0|              0|           0|           0|           0|           1|               0|               0|               1|                1|                 0|                 0|                 0|                0|           0|           1|               0|               0|           0|           0|             0|             0|             0|           0|           0|          1|                    0|                   0|                   0|                   1|                    0|      1341|          0|         0|\n",
      "|1470|        20|       70.0|   8400|          4|          5|     1970|        1970|       0.0|        3|        3|       3|       3|           1|           5|     804.0|           3|      78.0|      0.0|      882.0|        3|           0|      882|         1.0|         0.0|       1|       0|           2|           1|          3|           4|         8|         0|          0|     1970.0|           3|       2.0|     525.0|         3|         3|       240|          0|            0|          0|       0|     0|    3|      0|     4|  2010|          0|          1|          0|          1|         0|           0|           0|           1|              0|              0|              1|                0|            0|            0|               0|            0|            0|                   0|                  0|                   0|                   0|                   0|                   0|                   0|                   0|                  0|                   0|                   0|                 1|                   0|                  0|                   0|                   0|                   0|                 0|                  0|                   0|                   0|                   0|                  0|                   0|               0|              1|              0|              0|              0|              0|              0|              0|               0|              1|              0|              0|              0|              0|             0|              0|                0|                1|                0|                0|                0|              0|              1|                0|            0|                0|             0|               0|               0|               0|                  0|                  0|                  0|                  0|                  0|                  0|                  1|                 0|                  0|                  0|                  0|                  0|                  0|                  0|                 0|                  0|                  0|                  0|                  0|                  1|                0|                 0|                  0|                  0|                  0|                 0|              1|               0|                1|               0|              0|               0|              0|           0|           0|           0|           1|               0|               0|               1|                1|                 0|                 0|                 0|                0|           0|           1|               0|               0|           0|           0|             0|             0|             0|           0|           0|          1|                    0|                   0|                   0|                   1|                    0|       882|          0|         0|\n",
      "+----+----------+-----------+-------+-----------+-----------+---------+------------+----------+---------+---------+--------+--------+------------+------------+----------+------------+----------+---------+-----------+---------+------------+---------+------------+------------+--------+--------+------------+------------+-----------+------------+----------+----------+-----------+-----------+------------+----------+----------+----------+----------+----------+-----------+-------------+-----------+--------+------+-----+-------+------+------+-----------+-----------+-----------+-----------+----------+------------+------------+------------+---------------+---------------+---------------+-----------------+-------------+-------------+----------------+-------------+-------------+--------------------+-------------------+--------------------+--------------------+--------------------+--------------------+--------------------+--------------------+-------------------+--------------------+--------------------+------------------+--------------------+-------------------+--------------------+--------------------+--------------------+------------------+-------------------+--------------------+--------------------+--------------------+-------------------+--------------------+----------------+---------------+---------------+---------------+---------------+---------------+---------------+---------------+----------------+---------------+---------------+---------------+---------------+---------------+--------------+---------------+-----------------+-----------------+-----------------+-----------------+-----------------+---------------+---------------+-----------------+-------------+-----------------+--------------+----------------+----------------+----------------+-------------------+-------------------+-------------------+-------------------+-------------------+-------------------+-------------------+------------------+-------------------+-------------------+-------------------+-------------------+-------------------+-------------------+------------------+-------------------+-------------------+-------------------+-------------------+-------------------+-----------------+------------------+-------------------+-------------------+-------------------+------------------+---------------+----------------+-----------------+----------------+---------------+----------------+---------------+------------+------------+------------+------------+----------------+----------------+----------------+-----------------+------------------+------------------+------------------+-----------------+------------+------------+----------------+----------------+------------+------------+--------------+--------------+--------------+------------+------------+-----------+---------------------+--------------------+--------------------+--------------------+---------------------+----------+-----------+----------+\n",
      "only showing top 10 rows\n",
      "\n"
     ]
    }
   ],
   "source": [
    "from pyspark import SparkFiles\n",
    "# Load in train.csv from S3 into a DataFrame\n",
    "url = \"https://finalprojectbootcamp.s3.us-east-2.amazonaws.com/test_converted_df.csv\"\n",
    "spark.sparkContext.addFile(url)\n",
    "\n",
    "df = spark.read.option('header', 'true').csv(SparkFiles.get(\"test_converted_df.csv\"), inferSchema=True, sep=',', timestampFormat=\"mm/dd/yy\")\n",
    "df.show(10)\n",
    "\n",
    "#Convert to Pandas to allow train_test_split usage\n",
    "df = df.select(\"*\").toPandas()\n",
    "df = df.dropna(how=\"any\")"
   ]
  },
  {
   "cell_type": "code",
   "execution_count": 5,
   "metadata": {
    "id": "5-NxTTydTQjo"
   },
   "outputs": [],
   "source": [
    "# Import RandomForestRegressor and Pickle\n",
    "\n",
    "from sklearn.ensemble import RandomForestRegressor\n",
    "import pickle"
   ]
  },
  {
   "cell_type": "code",
   "execution_count": 7,
   "metadata": {
    "id": "jx69YVpRMxp3"
   },
   "outputs": [],
   "source": [
    "#Load model\n",
    "#NOTE: Must manually load file before un-pickling\n",
    "\n",
    "model = pickle.load(open(\"VLC_Ames_Housing_Price_Model\", 'rb'))"
   ]
  },
  {
   "cell_type": "code",
   "execution_count": 8,
   "metadata": {
    "colab": {
     "base_uri": "https://localhost:8080/"
=======
      "cell_type": "markdown",
      "metadata": {
        "id": "tsnLC6tjpSQH"
      },
      "source": [
        "In the following cells, the array of predicted prices is converted to a list and subsequently added to the complete datframe from test_converted_df.csv, imported above."
      ]
    },
    {
      "cell_type": "code",
      "metadata": {
        "id": "buGobmQmooeU"
      },
      "source": [
        "import pandas as pd\n",
        "\n",
        "prices = y_predict.tolist()"
      ],
      "execution_count": 7,
      "outputs": []
>>>>>>> 21ebbd06d45ecd3fd598ecbb7d5c12a677072fae
    },
    "id": "sqaBn6ZIz4b-",
    "outputId": "25fb664b-34d2-4cb8-f1a7-60a9aefd494c"
   },
   "outputs": [
    {
<<<<<<< HEAD
     "name": "stdout",
     "output_type": "stream",
     "text": [
      "[132189.99 161919.5  185122.   ... 153574.18 113218.   232581.23]\n"
     ]
    }
   ],
   "source": [
    "X_predict = df[[\"firstflrsf\", \n",
    "                \"GrLivArea\", \n",
    "                \"LotArea\", \n",
    "                \"GarageArea\", \n",
    "                \"BsmtUnfSF\", \n",
    "                \"TotalBsmtSF\", \n",
    "                \"LotFrontage\", \n",
    "                \"GarageYrBlt\", \n",
    "                \"MoSold\", \n",
    "                \"YearBuilt\"]]\n",
    "\n",
    "y_predict = model.predict(X_predict)\n",
    "\n",
    "print(y_predict)"
   ]
  },
  {
   "cell_type": "code",
   "execution_count": 9,
   "metadata": {
    "id": "buGobmQmooeU"
   },
   "outputs": [],
   "source": [
    "import pandas as pd\n",
    "\n",
    "prices = y_predict.tolist()"
   ]
  },
  {
   "cell_type": "code",
   "execution_count": 10,
   "metadata": {
    "id": "Kr26xYINuQbR"
   },
   "outputs": [],
   "source": [
    "df['Predicted Price'] = prices"
   ]
  },
  {
   "cell_type": "code",
   "execution_count": 12,
   "metadata": {
    "colab": {
     "base_uri": "https://localhost:8080/",
     "height": 359
=======
      "cell_type": "code",
      "metadata": {
        "id": "Kr26xYINuQbR"
      },
      "source": [
        "df['Predicted Price'] = prices"
      ],
      "execution_count": 8,
      "outputs": []
>>>>>>> 21ebbd06d45ecd3fd598ecbb7d5c12a677072fae
    },
    "id": "qgJ8RiMLSiVY",
    "outputId": "e04a7b13-c2b9-40ec-9110-9db901f36532"
   },
   "outputs": [
    {
<<<<<<< HEAD
     "data": {
      "text/html": [
       "<div>\n",
       "<style scoped>\n",
       "    .dataframe tbody tr th:only-of-type {\n",
       "        vertical-align: middle;\n",
       "    }\n",
       "\n",
       "    .dataframe tbody tr th {\n",
       "        vertical-align: top;\n",
       "    }\n",
       "\n",
       "    .dataframe thead th {\n",
       "        text-align: right;\n",
       "    }\n",
       "</style>\n",
       "<table border=\"1\" class=\"dataframe\">\n",
       "  <thead>\n",
       "    <tr style=\"text-align: right;\">\n",
       "      <th></th>\n",
       "      <th>Id</th>\n",
       "      <th>Predicted Price</th>\n",
       "    </tr>\n",
       "  </thead>\n",
       "  <tbody>\n",
       "    <tr>\n",
       "      <th>0</th>\n",
       "      <td>1461</td>\n",
       "      <td>132189.99</td>\n",
       "    </tr>\n",
       "    <tr>\n",
       "      <th>1</th>\n",
       "      <td>1462</td>\n",
       "      <td>161919.50</td>\n",
       "    </tr>\n",
       "    <tr>\n",
       "      <th>2</th>\n",
       "      <td>1463</td>\n",
       "      <td>185122.00</td>\n",
       "    </tr>\n",
       "    <tr>\n",
       "      <th>3</th>\n",
       "      <td>1464</td>\n",
       "      <td>183821.35</td>\n",
       "    </tr>\n",
       "    <tr>\n",
       "      <th>4</th>\n",
       "      <td>1465</td>\n",
       "      <td>183582.25</td>\n",
       "    </tr>\n",
       "    <tr>\n",
       "      <th>5</th>\n",
       "      <td>1466</td>\n",
       "      <td>176982.80</td>\n",
       "    </tr>\n",
       "    <tr>\n",
       "      <th>6</th>\n",
       "      <td>1467</td>\n",
       "      <td>170648.35</td>\n",
       "    </tr>\n",
       "    <tr>\n",
       "      <th>7</th>\n",
       "      <td>1468</td>\n",
       "      <td>174674.40</td>\n",
       "    </tr>\n",
       "    <tr>\n",
       "      <th>8</th>\n",
       "      <td>1469</td>\n",
       "      <td>179928.75</td>\n",
       "    </tr>\n",
       "    <tr>\n",
       "      <th>9</th>\n",
       "      <td>1470</td>\n",
       "      <td>129680.49</td>\n",
       "    </tr>\n",
       "  </tbody>\n",
       "</table>\n",
       "</div>"
      ],
      "text/plain": [
       "     Id  Predicted Price\n",
       "0  1461        132189.99\n",
       "1  1462        161919.50\n",
       "2  1463        185122.00\n",
       "3  1464        183821.35\n",
       "4  1465        183582.25\n",
       "5  1466        176982.80\n",
       "6  1467        170648.35\n",
       "7  1468        174674.40\n",
       "8  1469        179928.75\n",
       "9  1470        129680.49"
=======
      "cell_type": "code",
      "metadata": {
        "colab": {
          "base_uri": "https://localhost:8080/",
          "height": 359
        },
        "id": "qgJ8RiMLSiVY",
        "outputId": "ffe4fba4-ee12-444b-d7c1-b3ff524527be"
      },
      "source": [
        "df[['Id', 'Predicted Price']].head(10)"
      ],
      "execution_count": 9,
      "outputs": [
        {
          "output_type": "execute_result",
          "data": {
            "text/html": [
              "<div>\n",
              "<style scoped>\n",
              "    .dataframe tbody tr th:only-of-type {\n",
              "        vertical-align: middle;\n",
              "    }\n",
              "\n",
              "    .dataframe tbody tr th {\n",
              "        vertical-align: top;\n",
              "    }\n",
              "\n",
              "    .dataframe thead th {\n",
              "        text-align: right;\n",
              "    }\n",
              "</style>\n",
              "<table border=\"1\" class=\"dataframe\">\n",
              "  <thead>\n",
              "    <tr style=\"text-align: right;\">\n",
              "      <th></th>\n",
              "      <th>Id</th>\n",
              "      <th>Predicted Price</th>\n",
              "    </tr>\n",
              "  </thead>\n",
              "  <tbody>\n",
              "    <tr>\n",
              "      <th>0</th>\n",
              "      <td>1461</td>\n",
              "      <td>132189.99</td>\n",
              "    </tr>\n",
              "    <tr>\n",
              "      <th>1</th>\n",
              "      <td>1462</td>\n",
              "      <td>161919.50</td>\n",
              "    </tr>\n",
              "    <tr>\n",
              "      <th>2</th>\n",
              "      <td>1463</td>\n",
              "      <td>185122.00</td>\n",
              "    </tr>\n",
              "    <tr>\n",
              "      <th>3</th>\n",
              "      <td>1464</td>\n",
              "      <td>183821.35</td>\n",
              "    </tr>\n",
              "    <tr>\n",
              "      <th>4</th>\n",
              "      <td>1465</td>\n",
              "      <td>183582.25</td>\n",
              "    </tr>\n",
              "    <tr>\n",
              "      <th>5</th>\n",
              "      <td>1466</td>\n",
              "      <td>176982.80</td>\n",
              "    </tr>\n",
              "    <tr>\n",
              "      <th>6</th>\n",
              "      <td>1467</td>\n",
              "      <td>170648.35</td>\n",
              "    </tr>\n",
              "    <tr>\n",
              "      <th>7</th>\n",
              "      <td>1468</td>\n",
              "      <td>174674.40</td>\n",
              "    </tr>\n",
              "    <tr>\n",
              "      <th>8</th>\n",
              "      <td>1469</td>\n",
              "      <td>179928.75</td>\n",
              "    </tr>\n",
              "    <tr>\n",
              "      <th>9</th>\n",
              "      <td>1470</td>\n",
              "      <td>129680.49</td>\n",
              "    </tr>\n",
              "  </tbody>\n",
              "</table>\n",
              "</div>"
            ],
            "text/plain": [
              "     Id  Predicted Price\n",
              "0  1461        132189.99\n",
              "1  1462        161919.50\n",
              "2  1463        185122.00\n",
              "3  1464        183821.35\n",
              "4  1465        183582.25\n",
              "5  1466        176982.80\n",
              "6  1467        170648.35\n",
              "7  1468        174674.40\n",
              "8  1469        179928.75\n",
              "9  1470        129680.49"
            ]
          },
          "metadata": {
            "tags": []
          },
          "execution_count": 9
        }
>>>>>>> 21ebbd06d45ecd3fd598ecbb7d5c12a677072fae
      ]
     },
     "execution_count": 12,
     "metadata": {
      "tags": []
     },
     "output_type": "execute_result"
    }
   ],
   "source": [
    "df[['Id', 'Predicted Price']].head(10)"
   ]
  },
  {
   "cell_type": "code",
   "execution_count": null,
   "metadata": {
    "id": "xrPu9jOZTEe9"
   },
   "outputs": [],
   "source": []
  }
 ],
 "metadata": {
  "colab": {
   "include_colab_link": true,
   "name": "Dummies_House_Price_Predict.ipynb",
   "provenance": []
  },
  "kernelspec": {
   "display_name": "Python 3",
   "language": "python",
   "name": "python3"
  },
  "language_info": {
   "codemirror_mode": {
    "name": "ipython",
    "version": 3
   },
   "file_extension": ".py",
   "mimetype": "text/x-python",
   "name": "python",
   "nbconvert_exporter": "python",
   "pygments_lexer": "ipython3",
   "version": "3.8.5"
  }
 },
 "nbformat": 4,
 "nbformat_minor": 1
}
