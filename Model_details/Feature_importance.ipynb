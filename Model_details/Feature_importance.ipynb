{
 "cells": [
  {
   "cell_type": "markdown",
   "metadata": {
    "id": "view-in-github"
   },
   "source": [
    "<a href=\"https://colab.research.google.com/github/lguloy/House-Pricing-Predictions/blob/work_vijitha/Second_try_Feature_importance.ipynb\" target=\"_parent\"><img src=\"https://colab.research.google.com/assets/colab-badge.svg\" alt=\"Open In Colab\"/></a>"
   ]
  },
  {
   "cell_type": "code",
   "execution_count": null,
   "metadata": {
    "id": "QfFotDUsp16N"
   },
   "outputs": [],
   "source": [
    "# https://finalprojectbootcamp.s3.us-east-2.amazonaws.com/all_dumimies_converted_df.csv"
   ]
  },
  {
   "cell_type": "code",
   "execution_count": null,
   "metadata": {
    "colab": {
     "base_uri": "https://localhost:8080/"
    },
    "id": "tXPAeAvCp6KV",
    "outputId": "80ae100e-67a2-498f-fc7b-f82f1b9dedf2"
   },
   "outputs": [],
   "source": [
    "import os\n",
    "# Find the latest version of spark 3.0  from http://www-us.apache.org/dist/spark/ and enter as the spark version\n",
    "# For example:\n",
    "spark_version = 'spark-3.0.3'\n",
    "# spark_version = 'spark-3.<enter version>'\n",
    "os.environ['SPARK_VERSION']=spark_version\n",
    "\n",
    "# Install Spark and Java\n",
    "!apt-get update\n",
    "!apt-get install openjdk-11-jdk-headless -qq > /dev/null\n",
    "!wget -q http://www-us.apache.org/dist/spark/$SPARK_VERSION/$SPARK_VERSION-bin-hadoop2.7.tgz\n",
    "!tar xf $SPARK_VERSION-bin-hadoop2.7.tgz\n",
    "!pip install -q findspark\n",
    "\n",
    "# Set Environment Variables\n",
    "os.environ[\"JAVA_HOME\"] = \"/usr/lib/jvm/java-11-openjdk-amd64\"\n",
    "os.environ[\"SPARK_HOME\"] = f\"/content/{spark_version}-bin-hadoop2.7\"\n",
    "\n",
    "# Start a SparkSession\n",
    "import findspark\n",
    "findspark.init()"
   ]
  },
  {
   "cell_type": "code",
   "execution_count": null,
   "metadata": {
    "id": "xDFO8qpHqQBD"
   },
   "outputs": [],
   "source": [
    "from pyspark.sql import SparkSession\n",
    "spark = SparkSession.builder.appName(\"CloudETL\").config(\"spark.driver.extraClassPath\",\"/content/postgresql-42.2.9.jar\").getOrCreate()"
   ]
  },
  {
   "cell_type": "code",
   "execution_count": null,
   "metadata": {
    "colab": {
     "base_uri": "https://localhost:8080/"
    },
    "id": "oDy_n39YqW1F",
    "outputId": "8b14ed90-1ea2-497e-bfb6-f39c49f286fa"
   },
   "outputs": [],
   "source": [
    "from pyspark import SparkFiles\n",
    "# Load in train.csv from S3 into a DataFrame\n",
    "url = \"https://finalprojectbootcamp.s3.us-east-2.amazonaws.com/all_dumimies_converted_df.csv\"\n",
    "spark.sparkContext.addFile(url)\n",
    "\n",
    "df = spark.read.option('header', 'true').csv(SparkFiles.get(\"all_dumimies_converted_df.csv\"), inferSchema=True, sep=',', timestampFormat=\"mm/dd/yy\")\n",
    "df.show(10)\n",
    "\n",
    "#Convert to Pandas to allow train_test_split usage\n",
    "df = df.select(\"*\").toPandas()\n",
    "df = df.dropna(how=\"any\")"
   ]
  },
  {
   "cell_type": "code",
   "execution_count": null,
   "metadata": {
    "colab": {
     "base_uri": "https://localhost:8080/"
    },
    "id": "K3x03OX3qoXL",
    "outputId": "1a0e5058-b67f-4d7c-995e-aca968bc86f9"
   },
   "outputs": [],
   "source": [
    "#Get the Feature names\n",
    "import pandas as pd\n",
    "\n",
    "features = [col for col in df.columns]\n",
    "print(features)\n",
    "\n",
    "print(type(features))"
   ]
  },
  {
   "cell_type": "code",
   "execution_count": null,
   "metadata": {
    "id": "w5CLrFIBqsrF"
   },
   "outputs": [],
   "source": [
    "#Import sklearn tools and dependencies\n",
    "from sklearn.ensemble import RandomForestClassifier\n",
    "from sklearn.model_selection import train_test_split\n",
    "from sklearn.preprocessing import StandardScaler"
   ]
  },
  {
   "cell_type": "code",
   "execution_count": null,
   "metadata": {
    "id": "KEcb4liiqw24"
   },
   "outputs": [],
   "source": [
    "# Create the feature data and the target\n",
    "\n",
    "#Feature DataFrame is X\n",
    "X = df.drop(columns=[\"Id\", \"SalePrice\"])\n",
    "\n",
    "\n",
    "#Target Dataframe is y\n",
    "y = df[\"SalePrice\"]\n",
    "\n",
    "\n",
    "#####################Create train_test_split\n",
    "X_train, X_test, y_train, y_test = train_test_split(X, y, random_state=2)\n",
    "\n"
   ]
  },
  {
   "cell_type": "code",
   "execution_count": null,
   "metadata": {
    "id": "uwtfkFxWLwui"
   },
   "outputs": [],
   "source": [
    "# Scale\n",
    "X_train_scaler = StandardScaler().fit(X_train)\n",
    "X_test_scaler = StandardScaler().fit(X_test)\n",
    "X_train_scaled = X_train_scaler.transform(X_train)\n",
    "X_test_scaled = X_test_scaler.transform(X_test)"
   ]
  },
  {
   "cell_type": "code",
   "execution_count": null,
   "metadata": {
    "colab": {
     "base_uri": "https://localhost:8080/"
    },
    "id": "B6lOhvqZq0Jp",
    "outputId": "728a1a7b-5dae-4cf2-f014-cdaacb4d751f"
   },
   "outputs": [],
   "source": [
    "rf = RandomForestClassifier(n_estimators=200)\n",
    "rf.fit(X_train_scaled, y_train)\n",
    "print(f' Training score: {rf.score(X_train_scaled, y_train)}')\n",
    "print(f' Test score: {rf.score(X_test_scaled, y_test)}')"
   ]
  },
  {
   "cell_type": "code",
   "execution_count": null,
   "metadata": {
    "colab": {
     "base_uri": "https://localhost:8080/"
    },
    "id": "tqrG4oiQq3aM",
    "outputId": "b87d6438-b8cc-41fc-884f-5f784b8a39be"
   },
   "outputs": [],
   "source": [
    "importances = rf.feature_importances_\n",
    "features.remove(\"Id\")\n",
    "features.remove(\"SalePrice\")\n",
    "\n",
    "sorted(zip(rf.feature_importances_, features), reverse=True)"
   ]
  },
  {
   "cell_type": "code",
   "execution_count": null,
   "metadata": {
    "colab": {
     "base_uri": "https://localhost:8080/"
    },
    "id": "MSlkWZpsq7by",
    "outputId": "3adb1d68-f15d-49a2-e4e6-7c83d7b3efc7"
   },
   "outputs": [],
   "source": [
    "\n",
    "\n",
    "features.remove(\"Id\")\n",
    "features.remove(\"SalePrice\")\n",
    "\n",
    "sorted(zip(rf.feature_importances_, features), reverse=True)\n",
    "\n"
   ]
  },
  {
   "cell_type": "code",
   "execution_count": null,
   "metadata": {},
   "outputs": [],
   "source": [
    "[(0.03067184507694324, '1stFlrSF'),\n",
    " (0.030661811314982232, 'GrLivArea'),\n",
    " (0.030157742992857357, 'LotArea'),\n",
    " (0.030058219806715736, 'GarageArea'),\n",
    " (0.02988531453794777, 'BsmtUnfSF'),\n",
    " (0.028733422469003674, 'TotalBsmtSF'),\n",
    " (0.026627014082029762, 'LotFrontage'),\n",
    " (0.025583719381550338, 'GarageYrBlt'),\n",
    " (0.02533056678489419, 'MoSold'),\n",
    " (0.025239368282836506, 'YearBuilt'),"
   ]
  },
  {
   "cell_type": "markdown",
   "metadata": {
    "id": "ha9FQuSGq6Qp"
   },
   "source": []
  }
 ],
 "metadata": {
  "colab": {
   "name": "Second_try_Feature_importance.ipynb",
   "provenance": []
  },
  "kernelspec": {
   "display_name": "Python 3",
   "language": "python",
   "name": "python3"
  },
  "language_info": {
   "codemirror_mode": {
    "name": "ipython",
    "version": 3
   },
   "file_extension": ".py",
   "mimetype": "text/x-python",
   "name": "python",
   "nbconvert_exporter": "python",
   "pygments_lexer": "ipython3",
   "version": "3.8.5"
  }
 },
 "nbformat": 4,
 "nbformat_minor": 1
}
